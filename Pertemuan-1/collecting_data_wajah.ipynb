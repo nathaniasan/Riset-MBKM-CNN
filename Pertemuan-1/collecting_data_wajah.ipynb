{
  "nbformat": 4,
  "nbformat_minor": 0,
  "metadata": {
    "colab": {
      "provenance": []
    },
    "kernelspec": {
      "name": "python3",
      "display_name": "Python 3"
    },
    "language_info": {
      "name": "python"
    }
  },
  "cells": [
    {
      "cell_type": "markdown",
      "source": [
        "##Import Library"
      ],
      "metadata": {
        "id": "lSoJ6wNUdfGa"
      }
    },
    {
      "cell_type": "code",
      "execution_count": 1,
      "metadata": {
        "id": "YhYbEKLvaWZr"
      },
      "outputs": [],
      "source": [
        "import cv2"
      ]
    },
    {
      "cell_type": "markdown",
      "source": [
        "# Processing"
      ],
      "metadata": {
        "id": "FTjxcHardiGo"
      }
    },
    {
      "cell_type": "markdown",
      "source": [
        "##akses via"
      ],
      "metadata": {
        "id": "qUxZOdw_KZUI"
      }
    },
    {
      "cell_type": "code",
      "source": [
        "import cv2\n",
        "import os\n",
        "\n",
        "# Fungsi untuk mendeteksi wajah dalam gambar dan menyimpannya jika ditemukan\n",
        "def detect_and_export_faces(image_path, output_folder):\n",
        "    # Load Cascade Classifier untuk deteksi wajah\n",
        "    face_cascade = cv2.CascadeClassifier(cv2.data.haarcascades + 'haarcascade_frontalface_default.xml')\n",
        "\n",
        "    # Baca gambar\n",
        "    image = cv2.imread(image_path)\n",
        "\n",
        "    # Konversi ke grayscale untuk deteksi wajah\n",
        "    gray = cv2.cvtColor(image, cv2.COLOR_BGR2GRAY)\n",
        "\n",
        "    # Deteksi wajah dalam gambar\n",
        "    faces = face_cascade.detectMultiScale(gray, scaleFactor=1.1, minNeighbors=5, minSize=(30, 30))\n",
        "\n",
        "    # Ambil 10 karakter pertama dari nama file asli\n",
        "    original_filename = os.path.basename(image_path)[:10]\n",
        "\n",
        "    # Buat folder jika belum ada\n",
        "    output_subfolder = os.path.join(output_folder, original_filename)\n",
        "    if not os.path.exists(output_subfolder):\n",
        "        os.makedirs(output_subfolder)\n",
        "\n",
        "# Jika wajah terdeteksi, simpan dalam subfolder yang sesuai\n",
        "    if len(faces) > 0:\n",
        "        for idx, (x, y, w, h) in enumerate(faces):\n",
        "            face = image[y:y+h, x:x+w]\n",
        "            face_filename = os.path.join(output_subfolder, f\"face_{original_filename}.jpg\")  # Menggunakan 10 karakter pertama dari nama file asli\n",
        "            cv2.imwrite(face_filename, face)\n",
        "        print(f\"{len(faces)} wajah telah terdeteksi dan disimpan di {output_subfolder}\")\n",
        "    else:\n",
        "        print(\"Tidak ada wajah yang terdeteksi dalam gambar.\")\n",
        "\n",
        "# Path gambar input\n",
        "input_image_path = '/content/input_foto/2017051044_20221226_Datang Terlambat_57.png'\n",
        "\n",
        "# Folder untuk menyimpan wajah yang terdeteksi\n",
        "output_folder = '/content/deteksiwajah'\n",
        "\n",
        "# Buat folder jika belum ada\n",
        "if not os.path.exists(output_folder):\n",
        "    os.mkdir(output_folder)\n",
        "\n",
        "detect_and_export_faces(input_image_path, output_folder)"
      ],
      "metadata": {
        "colab": {
          "base_uri": "https://localhost:8080/"
        },
        "id": "h9hSX5B2elag",
        "outputId": "a9ce6df9-35a0-45d5-ffef-9150f2471c78"
      },
      "execution_count": 26,
      "outputs": [
        {
          "output_type": "stream",
          "name": "stdout",
          "text": [
            "Tidak ada wajah yang terdeteksi dalam gambar.\n"
          ]
        }
      ]
    },
    {
      "cell_type": "code",
      "source": [
        "\n",
        "# membaca melalui Direktori tempat gambar-gambar berada\n",
        "images_directory = 'rawdata'\n",
        "\n",
        "# Folder utama untuk menyimpan folder-folder hasil deteksi\n",
        "output_folder = 'dataset'\n",
        "\n",
        "# Buat folder utama jika belum ada\n",
        "if not os.path.exists(output_folder):\n",
        "    os.makedirs(output_folder)\n",
        "\n",
        "# Loop melalui semua file di direktori gambar\n",
        "for filename in os.listdir(images_directory):\n",
        "    if filename.lower().endswith(('.png', '.jpg', '.jpeg')):\n",
        "        input_image_path = os.path.join(images_directory, filename)\n",
        "        detect_and_export_faces(input_image_path, output_folder)"
      ],
      "metadata": {
        "id": "rYuod5kAZyfh"
      },
      "execution_count": null,
      "outputs": []
    },
    {
      "cell_type": "code",
      "source": [],
      "metadata": {
        "id": "mDy3w9p7OmoN"
      },
      "execution_count": null,
      "outputs": []
    }
  ]
}