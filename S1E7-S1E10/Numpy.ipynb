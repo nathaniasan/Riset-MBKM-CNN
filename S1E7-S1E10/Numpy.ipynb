{
 "cells": [
  {
   "cell_type": "code",
   "execution_count": 5,
   "id": "38dfcc85",
   "metadata": {},
   "outputs": [],
   "source": [
    "import numpy as np"
   ]
  },
  {
   "cell_type": "code",
   "execution_count": 6,
   "id": "70b6dd2d",
   "metadata": {},
   "outputs": [
    {
     "data": {
      "text/plain": [
       "array([1, 2, 3])"
      ]
     },
     "execution_count": 6,
     "metadata": {},
     "output_type": "execute_result"
    }
   ],
   "source": [
    "a= numpy.array([1,2,3])\n",
    "a"
   ]
  },
  {
   "cell_type": "code",
   "execution_count": 7,
   "id": "e1bf0f88",
   "metadata": {},
   "outputs": [
    {
     "data": {
      "text/plain": [
       "array([3, 6, 9])"
      ]
     },
     "execution_count": 7,
     "metadata": {},
     "output_type": "execute_result"
    }
   ],
   "source": [
    "a * 3\n"
   ]
  },
  {
   "cell_type": "code",
   "execution_count": 8,
   "id": "8ffb4c37",
   "metadata": {},
   "outputs": [
    {
     "data": {
      "text/plain": [
       "array([0.84147098, 0.90929743, 0.14112001])"
      ]
     },
     "execution_count": 8,
     "metadata": {},
     "output_type": "execute_result"
    }
   ],
   "source": [
    "np.sin(a)"
   ]
  },
  {
   "cell_type": "markdown",
   "id": "8e5dffdc",
   "metadata": {},
   "source": [
    "## arange, linspace, logspace"
   ]
  },
  {
   "cell_type": "code",
   "execution_count": 9,
   "id": "b212c84f",
   "metadata": {},
   "outputs": [
    {
     "data": {
      "text/plain": [
       "array([ 0. ,  2.5,  5. ,  7.5, 10. ])"
      ]
     },
     "execution_count": 9,
     "metadata": {},
     "output_type": "execute_result"
    }
   ],
   "source": [
    "np.linspace(0,10,5)"
   ]
  },
  {
   "cell_type": "code",
   "execution_count": 10,
   "id": "1c7e02ad",
   "metadata": {},
   "outputs": [
    {
     "data": {
      "text/plain": [
       "array([1.00000000e+00, 3.16227766e+02, 1.00000000e+05, 3.16227766e+07,\n",
       "       1.00000000e+10])"
      ]
     },
     "execution_count": 10,
     "metadata": {},
     "output_type": "execute_result"
    }
   ],
   "source": [
    "np.logspace(0,10,5)"
   ]
  },
  {
   "cell_type": "code",
   "execution_count": 11,
   "id": "96e0dbbd",
   "metadata": {},
   "outputs": [
    {
     "data": {
      "text/plain": [
       "array([[0.12195481, 0.39150213, 0.43245144, 0.74992346, 0.7531481 ,\n",
       "        0.69860451, 0.06741807, 0.87753347, 0.89996539, 0.99504277],\n",
       "       [0.8782014 , 0.13849745, 0.78759377, 0.95768661, 0.11477692,\n",
       "        0.23894148, 0.0830244 , 0.11068943, 0.73099898, 0.53231149],\n",
       "       [0.02361884, 0.92459282, 0.69702155, 0.14540146, 0.62136858,\n",
       "        0.8895595 , 0.71438078, 0.06682217, 0.29112852, 0.16962989],\n",
       "       [0.63336338, 0.41022175, 0.79849415, 0.49372126, 0.58086302,\n",
       "        0.04328295, 0.89964581, 0.47263952, 0.96014101, 0.2002318 ]])"
      ]
     },
     "execution_count": 11,
     "metadata": {},
     "output_type": "execute_result"
    }
   ],
   "source": [
    "np.random.rand(4,10)"
   ]
  },
  {
   "cell_type": "markdown",
   "id": "901dd9fd",
   "metadata": {},
   "source": [
    "## Controlled Randmness"
   ]
  },
  {
   "cell_type": "code",
   "execution_count": 14,
   "id": "ad4b45ea",
   "metadata": {},
   "outputs": [
    {
     "data": {
      "text/plain": [
       "array([0.37454012, 0.95071431, 0.73199394, 0.59865848, 0.15601864,\n",
       "       0.15599452, 0.05808361, 0.86617615, 0.60111501, 0.70807258])"
      ]
     },
     "execution_count": 14,
     "metadata": {},
     "output_type": "execute_result"
    }
   ],
   "source": [
    "state = np.random.RandomState(42)\n",
    "state.rand(10)"
   ]
  },
  {
   "cell_type": "markdown",
   "id": "a89293f7",
   "metadata": {},
   "source": []
  }
 ],
 "metadata": {
  "kernelspec": {
   "display_name": "Python 3 (ipykernel)",
   "language": "python",
   "name": "python3"
  },
  "language_info": {
   "codemirror_mode": {
    "name": "ipython",
    "version": 3
   },
   "file_extension": ".py",
   "mimetype": "text/x-python",
   "name": "python",
   "nbconvert_exporter": "python",
   "pygments_lexer": "ipython3",
   "version": "3.9.17"
  }
 },
 "nbformat": 4,
 "nbformat_minor": 5
}
