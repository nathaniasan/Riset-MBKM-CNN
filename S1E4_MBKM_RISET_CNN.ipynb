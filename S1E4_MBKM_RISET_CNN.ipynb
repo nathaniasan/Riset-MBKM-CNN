{
  "nbformat": 4,
  "nbformat_minor": 0,
  "metadata": {
    "colab": {
      "provenance": []
    },
    "kernelspec": {
      "name": "python3",
      "display_name": "Python 3"
    },
    "language_info": {
      "name": "python"
    }
  },
  "cells": [
    {
      "cell_type": "markdown",
      "source": [
        "###Join and split"
      ],
      "metadata": {
        "id": "L8B7mPb2Nunc"
      }
    },
    {
      "cell_type": "code",
      "execution_count": 1,
      "metadata": {
        "colab": {
          "base_uri": "https://localhost:8080/"
        },
        "id": "QOfWc5RLNj3p",
        "outputId": "db6ece0f-ca96-4667-ac88-9e36c33b949d"
      },
      "outputs": [
        {
          "output_type": "execute_result",
          "data": {
            "text/plain": [
              "['cat', 'dog', 'fish']"
            ]
          },
          "metadata": {},
          "execution_count": 1
        }
      ],
      "source": [
        "a = ['cat', 'dog', 'fish']\n",
        "a"
      ]
    },
    {
      "cell_type": "code",
      "source": [
        "\" \".join(a)"
      ],
      "metadata": {
        "id": "QFg7GP67N_z-",
        "colab": {
          "base_uri": "https://localhost:8080/",
          "height": 36
        },
        "outputId": "895c83d9-dfb5-4ef4-972b-cc76df23d567"
      },
      "execution_count": 2,
      "outputs": [
        {
          "output_type": "execute_result",
          "data": {
            "text/plain": [
              "'cat dog fish'"
            ],
            "application/vnd.google.colaboratory.intrinsic+json": {
              "type": "string"
            }
          },
          "metadata": {},
          "execution_count": 2
        }
      ]
    },
    {
      "cell_type": "code",
      "source": [
        "\", \".join(a)"
      ],
      "metadata": {
        "colab": {
          "base_uri": "https://localhost:8080/",
          "height": 36
        },
        "id": "rAOQoPekORnN",
        "outputId": "9badbcae-d640-4916-bbb3-43220a19e92f"
      },
      "execution_count": 3,
      "outputs": [
        {
          "output_type": "execute_result",
          "data": {
            "text/plain": [
              "'cat, dog, fish'"
            ],
            "application/vnd.google.colaboratory.intrinsic+json": {
              "type": "string"
            }
          },
          "metadata": {},
          "execution_count": 3
        }
      ]
    },
    {
      "cell_type": "code",
      "source": [
        "ket = \"Membuat learning path, dengan sendiri\"\n",
        "ket.split()"
      ],
      "metadata": {
        "colab": {
          "base_uri": "https://localhost:8080/"
        },
        "id": "SxaPFf-0PwFA",
        "outputId": "34fa862a-7ddc-4212-aa10-f8046376a44a"
      },
      "execution_count": 4,
      "outputs": [
        {
          "output_type": "execute_result",
          "data": {
            "text/plain": [
              "['Membuat', 'learning', 'path,', 'dengan', 'sendiri']"
            ]
          },
          "metadata": {},
          "execution_count": 4
        }
      ]
    },
    {
      "cell_type": "code",
      "source": [
        "ket.split(\", \")"
      ],
      "metadata": {
        "colab": {
          "base_uri": "https://localhost:8080/"
        },
        "id": "qB9VMJOgQK6a",
        "outputId": "f01090eb-7756-4ab3-8048-facfd7d917a0"
      },
      "execution_count": 5,
      "outputs": [
        {
          "output_type": "execute_result",
          "data": {
            "text/plain": [
              "['Membuat learning path', 'dengan sendiri']"
            ]
          },
          "metadata": {},
          "execution_count": 5
        }
      ]
    },
    {
      "cell_type": "markdown",
      "source": [
        "###DICTIONARY\n"
      ],
      "metadata": {
        "id": "nimBORVFSmZr"
      }
    },
    {
      "cell_type": "code",
      "source": [
        "a = {\n",
        "    'fish' : 'ikan',\n",
        "    'cat' : 'kucing',\n",
        "    'dog' : 'anjing',\n",
        "}\n",
        "a['cat']"
      ],
      "metadata": {
        "colab": {
          "base_uri": "https://localhost:8080/",
          "height": 36
        },
        "id": "lcUv4TM4SjbT",
        "outputId": "8bee037e-c05b-4ca1-f424-c70d54d068c4"
      },
      "execution_count": 6,
      "outputs": [
        {
          "output_type": "execute_result",
          "data": {
            "text/plain": [
              "'kucing'"
            ],
            "application/vnd.google.colaboratory.intrinsic+json": {
              "type": "string"
            }
          },
          "metadata": {},
          "execution_count": 6
        }
      ]
    },
    {
      "cell_type": "code",
      "source": [
        "a['ilkom'] = 'jurusan'\n",
        "a"
      ],
      "metadata": {
        "colab": {
          "base_uri": "https://localhost:8080/"
        },
        "id": "n02j0SebS8kL",
        "outputId": "dbcbf729-8b92-4f0d-a15d-8c381803e1e6"
      },
      "execution_count": 7,
      "outputs": [
        {
          "output_type": "execute_result",
          "data": {
            "text/plain": [
              "{'fish': 'ikan', 'cat': 'kucing', 'dog': 'anjing', 'ilkom': 'jurusan'}"
            ]
          },
          "metadata": {},
          "execution_count": 7
        }
      ]
    },
    {
      "cell_type": "code",
      "source": [
        "list1 = [1, 2, 3, 4, 5]\n",
        "list2 = [123, 234, 456]\n",
        "#akses atas key di dictionary dan penggabungan dict dan list\n",
        "d = {'a': [], 'b': []}\n",
        "d['a']=(list1)\n",
        "d['b']=(list2)\n",
        "print (d['a'])"
      ],
      "metadata": {
        "colab": {
          "base_uri": "https://localhost:8080/"
        },
        "id": "reZZxQ-bTmAF",
        "outputId": "90b65234-a382-4e6e-d87a-829dac45c4f0"
      },
      "execution_count": 8,
      "outputs": [
        {
          "output_type": "stream",
          "name": "stdout",
          "text": [
            "[1, 2, 3, 4, 5]\n"
          ]
        }
      ]
    },
    {
      "cell_type": "markdown",
      "source": [
        "##Fungsi"
      ],
      "metadata": {
        "id": "EpODozSfUmzj"
      }
    },
    {
      "cell_type": "code",
      "source": [
        "def matakuliah(matkul):\n",
        "    matkul={'Petruk':['algoritma','Array' ],\n",
        "                     'SDA':'3 SKS',\n",
        "                     'Machine Learning':['Statistika','Prediksi', 'Klasifikasi'],\n",
        "                     'PBO':'Inheritance',\n",
        "                     'Matematika':[]\n",
        "                    }\n",
        "    return matkul\n",
        "\n",
        "\n",
        "matakuliah"
      ],
      "metadata": {
        "colab": {
          "base_uri": "https://localhost:8080/"
        },
        "id": "ponxPdaHUewM",
        "outputId": "8b7d3734-9868-4485-fa5a-7b33ae491c4d"
      },
      "execution_count": 9,
      "outputs": [
        {
          "output_type": "execute_result",
          "data": {
            "text/plain": [
              "<function __main__.matakuliah(matkul)>"
            ]
          },
          "metadata": {},
          "execution_count": 9
        }
      ]
    },
    {
      "cell_type": "code",
      "source": [
        "def matakuliah(matkul):\n",
        "    matakuliah_dict = {\n",
        "        'Petruk': ['algoritma', 'Array'],\n",
        "        'SDA': '3 SKS',\n",
        "        'Machine Learning': ['Statistika', 'Prediksi', 'Klasifikasi'],\n",
        "        'PBO': 'Inheritance',\n",
        "        'Matematika': [],\n",
        "    }\n",
        "    return matakuliah_dict\n",
        "\n",
        "# Panggil fungsi matakuliah dan berikan parameter\n",
        "hasil = matakuliah('data')\n",
        "\n",
        "# Cetak hasil\n",
        "print(hasil)\n"
      ],
      "metadata": {
        "colab": {
          "base_uri": "https://localhost:8080/"
        },
        "id": "UW3mHMLnV3RG",
        "outputId": "e7c8d69e-6a52-4fca-bfcc-bc4e8bf9ce0c"
      },
      "execution_count": 10,
      "outputs": [
        {
          "output_type": "stream",
          "name": "stdout",
          "text": [
            "{'Petruk': ['algoritma', 'Array'], 'SDA': '3 SKS', 'Machine Learning': ['Statistika', 'Prediksi', 'Klasifikasi'], 'PBO': 'Inheritance', 'Matematika': []}\n"
          ]
        }
      ]
    },
    {
      "cell_type": "code",
      "source": [
        "import math\n",
        "\n",
        "def hitung_simpangan_baku(data):\n",
        "    n = len(data)\n",
        "    rata = sum(data) / n\n",
        "    selisih_kuadrat = [(x - rata) ** 2 for x in data]\n",
        "    simpangan_baku = math.sqrt(sum(selisih_kuadrat) / n)\n",
        "    return simpangan_baku\n",
        "\n",
        "# Contoh penggunaan fungsi dengan list\n",
        "data = [2, 4, 6, 8, 10]\n",
        "hasil = hitung_simpangan_baku(data)\n",
        "print(\"Simpangan baku:\", hasil)\n"
      ],
      "metadata": {
        "colab": {
          "base_uri": "https://localhost:8080/"
        },
        "id": "i8q-5N8sYm4r",
        "outputId": "fb562679-fe2d-44b0-b396-358555c5e930"
      },
      "execution_count": 11,
      "outputs": [
        {
          "output_type": "stream",
          "name": "stdout",
          "text": [
            "Simpangan baku: 2.8284271247461903\n"
          ]
        }
      ]
    },
    {
      "cell_type": "markdown",
      "source": [
        "##Perulangan/ Iterasi"
      ],
      "metadata": {
        "id": "IqSEi-aze11a"
      }
    },
    {
      "cell_type": "code",
      "source": [
        "for i in range(0, len(data),2) :\n",
        "  print (data[i])"
      ],
      "metadata": {
        "colab": {
          "base_uri": "https://localhost:8080/"
        },
        "id": "_LbVb3dre6zI",
        "outputId": "b8cf4003-5d8f-4a1d-83e9-ebc3fd73cb02"
      },
      "execution_count": 12,
      "outputs": [
        {
          "output_type": "stream",
          "name": "stdout",
          "text": [
            "2\n",
            "6\n",
            "10\n"
          ]
        }
      ]
    },
    {
      "cell_type": "markdown",
      "source": [
        "##Conditional"
      ],
      "metadata": {
        "id": "FmK2pMxmeg-F"
      }
    },
    {
      "cell_type": "code",
      "source": [
        "score = 50"
      ],
      "metadata": {
        "id": "1Ot0zQHR6cOz"
      },
      "execution_count": 16,
      "outputs": []
    },
    {
      "cell_type": "code",
      "source": [
        "if 0<= score < 60:\n",
        "    print ('Indeks: C')\n",
        "elif 60 <= score < 80:\n",
        "    print ('Indeks : B')\n",
        "elif 80 <= score < 100:\n",
        "    print ('Indeks : A')\n",
        "elif score == 100:\n",
        "    print ('Indeks : Y')\n",
        "else:\n",
        "    print (\"Score terlalu tinggi\")"
      ],
      "metadata": {
        "colab": {
          "base_uri": "https://localhost:8080/"
        },
        "id": "3Gi8coPF62z_",
        "outputId": "67dbf783-da76-4468-8174-3b7b17b0f074"
      },
      "execution_count": 17,
      "outputs": [
        {
          "output_type": "stream",
          "name": "stdout",
          "text": [
            "Indeks: C\n"
          ]
        }
      ]
    },
    {
      "cell_type": "code",
      "source": [
        "def konversi_ke_indeks(score):\n",
        "    if 0<= score < 60:\n",
        "        return ('Indeks: C')\n",
        "    elif 60 <= score < 80:\n",
        "        return ('Indeks : B')\n",
        "    elif 80 <= score < 100:\n",
        "        return ('Indeks : A')\n",
        "    elif score == 100:\n",
        "        return ('Indeks : Y')\n",
        "    else:\n",
        "        return (\"Score terlalu tinggi\")"
      ],
      "metadata": {
        "id": "R7z9pUmf616m"
      },
      "execution_count": 18,
      "outputs": []
    },
    {
      "cell_type": "code",
      "source": [
        "konversi_ke_indeks(10000)"
      ],
      "metadata": {
        "colab": {
          "base_uri": "https://localhost:8080/",
          "height": 36
        },
        "id": "kpwRDBG27EFH",
        "outputId": "9cbb4a6d-fd85-4640-f76e-5623a79a49b9"
      },
      "execution_count": 19,
      "outputs": [
        {
          "output_type": "execute_result",
          "data": {
            "text/plain": [
              "'Score terlalu tinggi'"
            ],
            "application/vnd.google.colaboratory.intrinsic+json": {
              "type": "string"
            }
          },
          "metadata": {},
          "execution_count": 19
        }
      ]
    },
    {
      "cell_type": "markdown",
      "source": [
        "#ITERASI"
      ],
      "metadata": {
        "id": "bH87TRH77aMx"
      }
    },
    {
      "cell_type": "code",
      "source": [
        "for score in [80,90,100,60]:\n",
        "    print (konversi_ke_indeks(score))\n"
      ],
      "metadata": {
        "colab": {
          "base_uri": "https://localhost:8080/"
        },
        "id": "UeA6YNe77dCJ",
        "outputId": "e8aec607-42be-487c-9f85-f8339358e6ae"
      },
      "execution_count": 20,
      "outputs": [
        {
          "output_type": "stream",
          "name": "stdout",
          "text": [
            "Indeks : A\n",
            "Indeks : A\n",
            "Indeks : Y\n",
            "Indeks : B\n"
          ]
        }
      ]
    },
    {
      "cell_type": "code",
      "source": [
        "animals = ['Cat','Dog','Bird','Elephant']\n",
        "animals\n",
        "\n"
      ],
      "metadata": {
        "colab": {
          "base_uri": "https://localhost:8080/"
        },
        "id": "u7duQefSeZCZ",
        "outputId": "04094e1a-a408-402f-abd5-d7108a222c0b"
      },
      "execution_count": 22,
      "outputs": [
        {
          "output_type": "execute_result",
          "data": {
            "text/plain": [
              "['Cat', 'Dog', 'Bird', 'Elephant']"
            ]
          },
          "metadata": {},
          "execution_count": 22
        }
      ]
    },
    {
      "cell_type": "code",
      "source": [
        "for num in a.keys():\n",
        "  print(num)"
      ],
      "metadata": {
        "id": "HpTlLwgTegAB",
        "colab": {
          "base_uri": "https://localhost:8080/"
        },
        "outputId": "f048c9c1-d74d-4dec-b382-adff15d34ac2"
      },
      "execution_count": 24,
      "outputs": [
        {
          "output_type": "stream",
          "name": "stdout",
          "text": [
            "fish\n",
            "cat\n",
            "dog\n",
            "ilkom\n"
          ]
        }
      ]
    },
    {
      "cell_type": "code",
      "source": [
        "kuadrat = []\n",
        "for i in range(5):\n",
        "    kuadrat.append(i**2)\n",
        "\n",
        "kuadrat"
      ],
      "metadata": {
        "colab": {
          "base_uri": "https://localhost:8080/"
        },
        "id": "xiSW78Mi9eoH",
        "outputId": "191a750a-5b7c-4fa1-b942-2b931999bbbe"
      },
      "execution_count": 26,
      "outputs": [
        {
          "output_type": "execute_result",
          "data": {
            "text/plain": [
              "[0, 1, 4, 9, 16]"
            ]
          },
          "metadata": {},
          "execution_count": 26
        }
      ]
    },
    {
      "cell_type": "markdown",
      "source": [
        "##Python Comprehension"
      ],
      "metadata": {
        "id": "MkH0Y0gt90hU"
      }
    },
    {
      "cell_type": "code",
      "source": [
        "for i in animals:\n",
        "  print(f\"Berikut ini adalah non kapital dari :{i.upper()}\")\n",
        "  print(f\"Sedangkan ini adalah kapitalnya dari :{i.lower()}\")"
      ],
      "metadata": {
        "colab": {
          "base_uri": "https://localhost:8080/"
        },
        "id": "sWDFTv4370x0",
        "outputId": "12f29ae8-e9c5-4048-a4ec-62ac0598b97c"
      },
      "execution_count": 28,
      "outputs": [
        {
          "output_type": "stream",
          "name": "stdout",
          "text": [
            "Berikut ini adalah non kapital dari :CAT\n",
            "Sedangkan ini adalah kapitalnya dari :cat\n",
            "Berikut ini adalah non kapital dari :DOG\n",
            "Sedangkan ini adalah kapitalnya dari :dog\n",
            "Berikut ini adalah non kapital dari :BIRD\n",
            "Sedangkan ini adalah kapitalnya dari :bird\n",
            "Berikut ini adalah non kapital dari :ELEPHANT\n",
            "Sedangkan ini adalah kapitalnya dari :elephant\n"
          ]
        }
      ]
    },
    {
      "cell_type": "code",
      "source": [
        "nilai = [konversi_ke_indeks(score) for score in [20,80,10,-5,88,90]]"
      ],
      "metadata": {
        "id": "DE6jf7NA-Ih2"
      },
      "execution_count": 30,
      "outputs": []
    },
    {
      "cell_type": "code",
      "source": [
        "nilai"
      ],
      "metadata": {
        "colab": {
          "base_uri": "https://localhost:8080/"
        },
        "id": "oM-fX3EV-SLy",
        "outputId": "47220970-c044-4da2-bf38-672d4ebca6b7"
      },
      "execution_count": 31,
      "outputs": [
        {
          "output_type": "execute_result",
          "data": {
            "text/plain": [
              "['Indeks: C',\n",
              " 'Indeks : A',\n",
              " 'Indeks: C',\n",
              " 'Score terlalu tinggi',\n",
              " 'Indeks : A',\n",
              " 'Indeks : A']"
            ]
          },
          "metadata": {},
          "execution_count": 31
        }
      ]
    },
    {
      "cell_type": "code",
      "source": [
        "for i in nilai:\n",
        "  print (\" \".join(i))"
      ],
      "metadata": {
        "colab": {
          "base_uri": "https://localhost:8080/"
        },
        "id": "ctWRSPYB-Uc5",
        "outputId": "04225e41-7b65-4f68-de83-41c9b12f2357"
      },
      "execution_count": 37,
      "outputs": [
        {
          "output_type": "stream",
          "name": "stdout",
          "text": [
            "I n d e k s :   C\n",
            "I n d e k s   :   A\n",
            "I n d e k s :   C\n",
            "S c o r e   t e r l a l u   t i n g g i\n",
            "I n d e k s   :   A\n",
            "I n d e k s   :   A\n"
          ]
        }
      ]
    },
    {
      "cell_type": "code",
      "source": [],
      "metadata": {
        "id": "jqwH-uRE-lfP"
      },
      "execution_count": null,
      "outputs": []
    }
  ]
}